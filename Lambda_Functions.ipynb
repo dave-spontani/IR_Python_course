{
  "nbformat": 4,
  "nbformat_minor": 0,
  "metadata": {
    "colab": {
      "provenance": [],
      "collapsed_sections": [
        "5fJjzs6GhoBH"
      ]
    },
    "kernelspec": {
      "name": "python3",
      "display_name": "Python 3"
    },
    "language_info": {
      "name": "python"
    }
  },
  "cells": [
    {
      "cell_type": "markdown",
      "source": [
        "# Today's lesson is about lambda functions!"
      ],
      "metadata": {
        "id": "bEYftPhFdI6Z"
      }
    },
    {
      "cell_type": "markdown",
      "source": [
        "###Imports"
      ],
      "metadata": {
        "id": "5fJjzs6GhoBH"
      }
    },
    {
      "cell_type": "code",
      "source": [
        "import pandas as pd"
      ],
      "metadata": {
        "id": "F1L4nVBAhlk1"
      },
      "execution_count": 18,
      "outputs": []
    },
    {
      "cell_type": "markdown",
      "source": [
        "### Functions are usually written like this in python: \n"
      ],
      "metadata": {
        "id": "uT46HRbtdO0P"
      }
    },
    {
      "cell_type": "code",
      "execution_count": 15,
      "metadata": {
        "id": "aKXl3s4bc6Fb"
      },
      "outputs": [],
      "source": [
        "def print_up_to(x): \n",
        "  ''' \n",
        "  This function prints out all the numbers leading up to the input number. \n",
        "\n",
        "  Inputs:\n",
        "    x: The number until which should be counted to\n",
        "\n",
        "  '''\n",
        "  for i in range(0, x):\n",
        "    print(i)"
      ]
    },
    {
      "cell_type": "code",
      "source": [
        "print_up_to(10)"
      ],
      "metadata": {
        "id": "9F6pNCmRdo-9"
      },
      "execution_count": null,
      "outputs": []
    },
    {
      "cell_type": "code",
      "source": [
        "####Get the docstring/explenation of the function\n",
        "print_up_to?"
      ],
      "metadata": {
        "id": "9PiubEq5g1Qr"
      },
      "execution_count": 16,
      "outputs": []
    },
    {
      "cell_type": "markdown",
      "source": [
        "Lambda functions look like this:"
      ],
      "metadata": {
        "id": "M5aE3xdyekMk"
      }
    },
    {
      "cell_type": "code",
      "source": [
        "l = lambda x: x * 2"
      ],
      "metadata": {
        "id": "owyOfibRemfq"
      },
      "execution_count": 8,
      "outputs": []
    },
    {
      "cell_type": "code",
      "source": [
        "print(l(1))"
      ],
      "metadata": {
        "colab": {
          "base_uri": "https://localhost:8080/"
        },
        "id": "Ah4r7Cv1f-mV",
        "outputId": "c20ef984-f609-481a-beb3-2a32e1ee34cc"
      },
      "execution_count": 9,
      "outputs": [
        {
          "output_type": "stream",
          "name": "stdout",
          "text": [
            "2\n"
          ]
        }
      ]
    },
    {
      "cell_type": "markdown",
      "source": [
        "Lambda functions are functions that can be written concisely (like List Comprehensions) and are therefore a handy tool. However, they can only define one expression - and since they cannot store a Docstring to explain what they do, make sure you comment the useage somewhere in the code!"
      ],
      "metadata": {
        "id": "qGGZitL5d5vg"
      }
    },
    {
      "cell_type": "markdown",
      "source": [
        "Lambda functions can also be used to great effect when filtering or applying functions to pandas dataframes (with the coupled use of the \".apply command\")! Let's look at an example: "
      ],
      "metadata": {
        "id": "tEuMgGB9hVno"
      }
    },
    {
      "cell_type": "code",
      "source": [
        "###Define the Dataframe\n",
        "data = {'col_1': [3, 2, 1, 0], 'col_2': ['A', 'B', 'C', 'D']}\n",
        "df_dict = pd.DataFrame.from_dict(data)\n",
        "print(df_dict)"
      ],
      "metadata": {
        "colab": {
          "base_uri": "https://localhost:8080/"
        },
        "id": "WsOy3FjjdyK9",
        "outputId": "c0fa10c5-148d-4196-d298-354e48e6600b"
      },
      "execution_count": 22,
      "outputs": [
        {
          "output_type": "stream",
          "name": "stdout",
          "text": [
            "   col_1 col_2\n",
            "0      3     A\n",
            "1      2     B\n",
            "2      1     C\n",
            "3      0     D\n"
          ]
        }
      ]
    },
    {
      "cell_type": "markdown",
      "source": [
        "Say we want to add one to each element in \"col_01\". We would do it like this:"
      ],
      "metadata": {
        "id": "2iynyWOhhwVN"
      }
    },
    {
      "cell_type": "code",
      "source": [
        "df_dict[\"col_1\"] = df_dict[\"col_1\"].apply(lambda x: x + 1) \n",
        "\n",
        "print(df_dict)"
      ],
      "metadata": {
        "colab": {
          "base_uri": "https://localhost:8080/"
        },
        "id": "LQTxtbvqdyWR",
        "outputId": "74b06a3f-d1e7-4605-83b1-5f3c1c2247a9"
      },
      "execution_count": 23,
      "outputs": [
        {
          "output_type": "stream",
          "name": "stdout",
          "text": [
            "   col_1 col_2\n",
            "0      4     A\n",
            "1      3     B\n",
            "2      2     C\n",
            "3      1     D\n"
          ]
        }
      ]
    },
    {
      "cell_type": "markdown",
      "source": [
        "Simple, right? We define the column that we want to change, and add the \".apply\" command, where we define what should be applied on every element in this column. We then specify the lambda function, which automatically executes the function for each element in the column. \n",
        "\n",
        "We can also use our own functions or pre-defined functions in lambda. Say we want all the letters in \"col_2\" to be lowercase. We can do this with iterations, or the .lower() command in Python - let's combine this with the lambda function! "
      ],
      "metadata": {
        "id": "1SzSz3oSiWHO"
      }
    },
    {
      "cell_type": "code",
      "source": [
        "df_dict[\"col_2\"] = df_dict[\"col_2\"].apply(lambda x: x.lower()) \n",
        "\n",
        "print(df_dict)"
      ],
      "metadata": {
        "colab": {
          "base_uri": "https://localhost:8080/"
        },
        "id": "2s8o7fiViVBf",
        "outputId": "b3201fb9-2844-419d-97d4-9536e5c81705"
      },
      "execution_count": 24,
      "outputs": [
        {
          "output_type": "stream",
          "name": "stdout",
          "text": [
            "   col_1 col_2\n",
            "0      4     a\n",
            "1      3     b\n",
            "2      2     c\n",
            "3      1     d\n"
          ]
        }
      ]
    },
    {
      "cell_type": "markdown",
      "source": [
        "Sweet!\n"
      ],
      "metadata": {
        "id": "8jfLwT3njOik"
      }
    },
    {
      "cell_type": "markdown",
      "source": [
        "Now that you know how to use the Lambda functions, solve the following exercises TOGETHER in class!"
      ],
      "metadata": {
        "id": "VmqRNIaJjQfh"
      }
    },
    {
      "cell_type": "markdown",
      "source": [
        "### Lively - Lambdas"
      ],
      "metadata": {
        "id": "bP7zLax1jrEl"
      }
    },
    {
      "cell_type": "markdown",
      "source": [
        "We will use the following Dataframe for this exercise:"
      ],
      "metadata": {
        "id": "ya__0XDLkBte"
      }
    },
    {
      "cell_type": "code",
      "source": [
        "####Do not change:########\n",
        "###Define the Dataframe\n",
        "\n",
        "candy = {'Candy': [\"Maoams\", \"Candy-corn\", \"Chocolates\", \"Raisins\"], 'Amount': [5, 3, 2, 6], 'Price': [2, 1.5, 3, 0.5]}\n",
        "halloween_candy = pd.DataFrame.from_dict(candy)\n",
        "print(halloween_candy)\n",
        "\n",
        "#####Dataframe defined"
      ],
      "metadata": {
        "colab": {
          "base_uri": "https://localhost:8080/"
        },
        "id": "fEf7iyH-dydT",
        "outputId": "720a514f-e64e-4ae7-9c88-19a2e882c382"
      },
      "execution_count": 49,
      "outputs": [
        {
          "output_type": "stream",
          "name": "stdout",
          "text": [
            "        Candy  Amount  Price\n",
            "0      Maoams       5    2.0\n",
            "1  Candy-corn       3    1.5\n",
            "2  Chocolates       2    3.0\n",
            "3     Raisins       6    0.5\n"
          ]
        }
      ]
    },
    {
      "cell_type": "markdown",
      "source": [
        "### Task 1: We made a mistake - we found a second bag of candies from our Trick-or-Treating efforts! Create a lambda cuntion that will double (or triple) the numbers in \"Amount\"\n",
        "\n",
        "#####Bonus task: Only double the candy if it is NOT the Raisins (No one except yours truly likes them it seems). Do not filter by name, but by something else. If it feels like cheating, you are doing it right."
      ],
      "metadata": {
        "id": "vT5pCxz0k1qr"
      }
    },
    {
      "cell_type": "code",
      "source": [
        "# A code block for your coding pleasure"
      ],
      "metadata": {
        "id": "9Ck6NSEElOiN"
      },
      "execution_count": 50,
      "outputs": []
    },
    {
      "cell_type": "markdown",
      "source": [
        "### Task 2: Splendidè! Now, since you are all wise in the ways of Pandas manipulation, create a new column with all the total value for each candy. Call this colum \"Total\"\n",
        "\n",
        "##### Bonus task: Find the total sum of this new column to know how much your bag of candy is worth! (You will have to import a library for this that handles NUMbers in PYthon)"
      ],
      "metadata": {
        "id": "bBl2y-Q4lRwV"
      }
    },
    {
      "cell_type": "code",
      "source": [
        "# An empty cell for your ingenious coding skills to manifest themselves"
      ],
      "metadata": {
        "id": "MYVlQoRFnzIo"
      },
      "execution_count": 51,
      "outputs": []
    },
    {
      "cell_type": "markdown",
      "source": [
        "### Task 3: So, now that we have the \"Total\" column, create an identical columns called \"Lambda_Total\" with lambda functions! \n",
        "\n",
        "Easy, right? Especially after I've given you so much to work with ;)\n",
        "\n",
        "Jokes aside, use Google to find a way to accomplish this. The syntax will be similar to what you used in Task 2!\n"
      ],
      "metadata": {
        "id": "IHcRrRhmn7k7"
      }
    },
    {
      "cell_type": "code",
      "source": [
        "# An empty canvas, courtesy of Colab\n",
        "halloween_candy[\"Lambda_Total\"] = halloween_candy.apply(lambda x: x[\"Amount\"] * 2 * x[\"Price\"], axis = 1)\n",
        "\n",
        "print(halloween_candy)"
      ],
      "metadata": {
        "colab": {
          "base_uri": "https://localhost:8080/"
        },
        "id": "bWegU3hipGLn",
        "outputId": "51e5dbcc-3894-4d62-8aba-c547fbbe0899"
      },
      "execution_count": 53,
      "outputs": [
        {
          "output_type": "stream",
          "name": "stdout",
          "text": [
            "        Candy  Amount  Price  Lambda_Total\n",
            "0      Maoams       5    2.0          20.0\n",
            "1  Candy-corn       3    1.5           9.0\n",
            "2  Chocolates       2    3.0          12.0\n",
            "3     Raisins       6    0.5           6.0\n"
          ]
        }
      ]
    },
    {
      "cell_type": "markdown",
      "source": [
        "### Task 4: Finally, now that you implemented all of my wishes, come up with your own lambda-function and do something to the Dataframe that you think would be funny. \n",
        "\n",
        "If you have no ideas, then you can implement a function which shows how much you love raisins and store the result in a new column\n"
      ],
      "metadata": {
        "id": "txqPzBAKsFA2"
      }
    }
  ]
}